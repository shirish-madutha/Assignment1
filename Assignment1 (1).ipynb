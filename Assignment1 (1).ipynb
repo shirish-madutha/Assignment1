{
 "cells": [
  {
   "cell_type": "code",
   "execution_count": 6,
   "id": "5e70f657-fb48-475c-a773-023047fc8f11",
   "metadata": {},
   "outputs": [
    {
     "name": "stdout",
     "output_type": "stream",
     "text": [
      "1\n",
      "2\n",
      "3\n",
      "4\n",
      "5\n",
      "6\n",
      "7\n",
      "8\n",
      "9\n",
      "10\n"
     ]
    },
    {
     "name": "stdin",
     "output_type": "stream",
     "text": [
      "Enter the your name :  ssc5\n"
     ]
    },
    {
     "name": "stdout",
     "output_type": "stream",
     "text": [
      "Name cannot be contain any special characters, integers and blank spaces.\n"
     ]
    },
    {
     "name": "stdin",
     "output_type": "stream",
     "text": [
      "Enter the your name :   d445 \n"
     ]
    },
    {
     "name": "stdout",
     "output_type": "stream",
     "text": [
      "Name cannot be contain any special characters, integers and blank spaces.\n"
     ]
    },
    {
     "name": "stdin",
     "output_type": "stream",
     "text": [
      "Enter the your name :   d5d 545\n"
     ]
    },
    {
     "name": "stdout",
     "output_type": "stream",
     "text": [
      "Name cannot be contain any special characters, integers and blank spaces.\n"
     ]
    },
    {
     "name": "stdin",
     "output_type": "stream",
     "text": [
      "Enter the your name :  shiry\n"
     ]
    },
    {
     "name": "stdout",
     "output_type": "stream",
     "text": [
      "Your name is shiry\n"
     ]
    }
   ],
   "source": [
    "\"\"\" Q1. Explain with an example each when to use a for loop and a while loop.\"\"\"\n",
    "\n",
    "# for loop :\n",
    "    # The for loop is used when we know the number of iterations. \n",
    "# Example:\n",
    "for i in range(1,11):\n",
    "    print(i)\n",
    "    \n",
    "# while loop :\n",
    "    # The while loop is used when we don't know the number of iterations.\n",
    "# Example:\n",
    "while True:\n",
    "    name=input(\"Enter the your name : \")\n",
    "    if name.isalpha():\n",
    "        print(\"Your name is\",name)\n",
    "        break\n",
    "    else:\n",
    "        print(\"Name cannot be contain any special characters, integers and blank spaces.\")\n",
    "        continue"
   ]
  },
  {
   "cell_type": "code",
   "execution_count": 9,
   "id": "297eaaa7-4265-4004-9c1d-dfbb8b493e09",
   "metadata": {},
   "outputs": [
    {
     "name": "stdout",
     "output_type": "stream",
     "text": [
      "sum of first 10 natural numbers is :  55\n",
      "product of first 10 natural numbers is :  3628800\n",
      "sum of first 10 natural numbers is :  55\n",
      "product of first 10 natural numbers is :  3628800\n"
     ]
    }
   ],
   "source": [
    "\"\"\" Q2. Write a python program to print the sum and product of the first 10 natural numbers using for\n",
    "and while loop. \"\"\"\n",
    "\n",
    "# Using for loop : \n",
    "sum=0\n",
    "product=1\n",
    "for i in range(1,11):\n",
    "    sum+=i\n",
    "    product*=i\n",
    "print(\"sum of first 10 natural numbers is : \",sum)\n",
    "print(\"product of first 10 natural numbers is : \",product) \n",
    "\n",
    "# Using while loop : \n",
    "sum=0\n",
    "product=1\n",
    "i=1\n",
    "while i<=10:\n",
    "    sum+=i\n",
    "    product*=i\n",
    "    i+=1\n",
    "print(\"sum of first 10 natural numbers is : \",sum)\n",
    "print(\"product of first 10 natural numbers is : \",product)  "
   ]
  },
  {
   "cell_type": "code",
   "execution_count": 12,
   "id": "f3a3e010-775f-4f79-816d-60172fb085e6",
   "metadata": {},
   "outputs": [
    {
     "name": "stdin",
     "output_type": "stream",
     "text": [
      "Enter the units of electricity consumed in a month :  310\n"
     ]
    },
    {
     "name": "stdout",
     "output_type": "stream",
     "text": [
      "Total bill amount is : 2250.0 rs\n"
     ]
    }
   ],
   "source": [
    "\"\"\" Q3. Create a python program to compute the electricity bill for a household.\n",
    "    The per-unit charges in rupees are as follows: For the first 100 units, the user will be charged Rs. 4.5 per\n",
    "unit, for the next 100 units, the user will be charged Rs. 6 per unit, and for the next 100 units, the user will\n",
    "be charged Rs. 10 per unit, After 300 units and above the user will be charged Rs. 20 per unit.\n",
    "You are required to take the units of electricity consumed in a month from the user as input.\n",
    "Your program must pass this test case: when the unit of electricity consumed by the user in a month is\n",
    "310, the total electricity bill should be 2250. \"\"\"\n",
    "\n",
    "units = int(input(\"Enter the units of electricity consumed in a month : \"))\n",
    "\n",
    "if units<=100:\n",
    "    cal = units * 4.5\n",
    "elif units<=200:\n",
    "    cal = 100*4.5 + (units-100)*6\n",
    "elif units<=300:\n",
    "    cal = 100*4.5 + 100*6 + (units-200)*10\n",
    "else:\n",
    "    cal = 100*4.5 + 100*6 + 100*10 + (units-300)*20\n",
    "\n",
    "print(\"Total bill amount is :\",cal,\"rs\")"
   ]
  },
  {
   "cell_type": "code",
   "execution_count": 14,
   "id": "87684372-69cc-4160-bb0d-2bd886516e19",
   "metadata": {},
   "outputs": [
    {
     "name": "stdout",
     "output_type": "stream",
     "text": [
      "[8, 64, 125, 216, 512, 1000, 1728, 2744, 3375, 4096, 5832, 8000, 10648, 13824, 15625, 17576, 21952, 27000, 32768, 39304, 42875, 46656, 54872, 64000, 74088, 85184, 91125, 97336, 110592, 125000, 140608, 157464, 166375, 175616, 195112, 216000, 238328, 262144, 274625, 287496, 314432, 343000, 373248, 405224, 421875, 438976, 474552, 512000, 551368, 592704, 614125, 636056, 681472, 729000, 778688, 830584, 857375, 884736, 941192, 1000000]\n",
      "[8, 64, 125, 216, 512, 1000, 1728, 2744, 3375, 4096, 5832, 8000, 10648, 13824, 15625, 17576, 21952, 27000, 32768, 39304, 42875, 46656, 54872, 64000, 74088, 85184, 91125, 97336, 110592, 125000, 140608, 157464, 166375, 175616, 195112, 216000, 238328, 262144, 274625, 287496, 314432, 343000, 373248, 405224, 421875, 438976, 474552, 512000, 551368, 592704, 614125, 636056, 681472, 729000, 778688, 830584, 857375, 884736, 941192, 1000000]\n"
     ]
    }
   ],
   "source": [
    "\"\"\" Q4. Create a list of numbers from 1 to 100. Use for loop and while loop to calculate the cube of each\n",
    "number and if the cube of that number is divisible by 4 or 5 then append that number in a list and print\n",
    "that list. \"\"\"\n",
    "\n",
    "# Using for loop : \n",
    "cube=[]\n",
    "for i in range(1,101):\n",
    "    l=i**3\n",
    "    if l%4==0 or l%5==0:\n",
    "        cube.append(l)\n",
    "print(cube)\n",
    "\n",
    "# Using while loop :\n",
    "cube=[]\n",
    "num=1\n",
    "while num<=100:\n",
    "    l=num**3\n",
    "    if l%4==0 or l%5==0:\n",
    "        cube.append(l)\n",
    "    num+=1\n",
    "print(cube)"
   ]
  },
  {
   "cell_type": "code",
   "execution_count": 17,
   "id": "5b0c2298-da2d-4de2-8aba-3a59901a5f02",
   "metadata": {},
   "outputs": [
    {
     "name": "stdout",
     "output_type": "stream",
     "text": [
      "12\n"
     ]
    }
   ],
   "source": [
    "\"\"\" Q5. Write a program to filter count vowels in the below-given string.\n",
    "string = \"I want to become a data scientist\" \"\"\"\n",
    "\n",
    "string = \"I want to become a data scientist\"\n",
    "vowels=[\"a\",\"e\",\"i\",\"o\",\"u\"]\n",
    "count=0\n",
    "for i in string:\n",
    "    if i.lower() in vowels:\n",
    "        count+=1\n",
    "print(count)"
   ]
  }
 ],
 "metadata": {
  "kernelspec": {
   "display_name": "Python 3 (ipykernel)",
   "language": "python",
   "name": "python3"
  },
  "language_info": {
   "codemirror_mode": {
    "name": "ipython",
    "version": 3
   },
   "file_extension": ".py",
   "mimetype": "text/x-python",
   "name": "python",
   "nbconvert_exporter": "python",
   "pygments_lexer": "ipython3",
   "version": "3.10.8"
  }
 },
 "nbformat": 4,
 "nbformat_minor": 5
}
